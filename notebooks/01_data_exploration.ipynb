{
 "cells": [
  {
   "cell_type": "code",
   "execution_count": null,
   "id": "c937e108",
   "metadata": {
    "vscode": {
     "languageId": "plaintext"
    }
   },
   "outputs": [],
   "source": [
    "# %% [markdown]\n",
    "# # Data Exploration\n",
    "# \n",
    "# This notebook explores the dataset used for the ML pipeline.\n",
    "\n",
    "# %%\n",
    "import pandas as pd\n",
    "import numpy as np\n",
    "import matplotlib.pyplot as plt\n",
    "import seaborn as sns\n",
    "from sklearn.datasets import make_classification\n",
    "\n",
    "# %%\n",
    "# Create sample data if needed\n",
    "X, y = make_classification(n_samples=1000, n_features=5, n_classes=2, random_state=42)\n",
    "df = pd.DataFrame(X, columns=[f'feature_{i}' for i in range(5)])\n",
    "df['target'] = y\n",
    "\n",
    "# %%\n",
    "# Display basic information\n",
    "print(\"Dataset shape:\", df.shape)\n",
    "print(\"\\nFirst 5 rows:\")\n",
    "print(df.head())\n",
    "\n",
    "# %%\n",
    "# Check for missing values\n",
    "print(\"Missing values:\")\n",
    "print(df.isnull().sum())\n",
    "\n",
    "# %%\n",
    "# Statistical summary\n",
    "print(\"Statistical summary:\")\n",
    "print(df.describe())\n",
    "\n",
    "# %%\n",
    "# Distribution of target variable\n",
    "plt.figure(figsize=(8, 6))\n",
    "sns.countplot(x='target', data=df)\n",
    "plt.title('Distribution of Target Variable')\n",
    "plt.savefig('../plots/target_distribution.png')\n",
    "plt.show()\n",
    "\n",
    "# %%\n",
    "# Correlation matrix\n",
    "plt.figure(figsize=(10, 8))\n",
    "corr_matrix = df.corr()\n",
    "sns.heatmap(corr_matrix, annot=True, cmap='coolwarm', center=0)\n",
    "plt.title('Correlation Matrix')\n",
    "plt.savefig('../plots/correlation_matrix.png')\n",
    "plt.show()\n",
    "\n",
    "# %%\n",
    "# Feature distributions\n",
    "df.drop('target', axis=1).hist(bins=20, figsize=(12, 10))\n",
    "plt.suptitle('Feature Distributions')\n",
    "plt.savefig('../plots/feature_distributions.png')\n",
    "plt.show()"
   ]
  }
 ],
 "metadata": {
  "language_info": {
   "name": "python"
  }
 },
 "nbformat": 4,
 "nbformat_minor": 5
}
